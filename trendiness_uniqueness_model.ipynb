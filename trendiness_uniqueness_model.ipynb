{
 "cells": [
  {
   "cell_type": "code",
   "execution_count": 72,
   "metadata": {},
   "outputs": [],
   "source": [
    "import pandas as pd\n",
    "import torch\n",
    "import torch.nn as nn\n",
    "import torch.optim as optim\n",
    "from torch.utils.data import Dataset, DataLoader, random_split\n",
    "from sklearn.preprocessing import MinMaxScaler\n",
    "from tqdm import tqdm\n",
    "import pickle\n",
    "import re\n",
    "import numpy as np\n",
    "from scipy import stats\n"
   ]
  },
  {
   "cell_type": "code",
   "execution_count": 73,
   "metadata": {},
   "outputs": [
    {
     "name": "stderr",
     "output_type": "stream",
     "text": [
      "C:\\Users\\kongj\\AppData\\Local\\Temp\\ipykernel_28184\\4248249181.py:47: DtypeWarning: Columns (3) have mixed types. Specify dtype option on import or set low_memory=False.\n",
      "  df = pd.read_csv(input_file_path)\n"
     ]
    }
   ],
   "source": [
    "def extract_ranking(text):\n",
    "    if pd.isna(text) or not isinstance(text, str):\n",
    "        return None\n",
    "    # Remove commas from the text before converting to integer\n",
    "    text = text.replace(',', '')\n",
    "    match = re.search(r'#([\\d,]+)', text)\n",
    "    if match:\n",
    "        return int(match.group(1))\n",
    "    return None\n",
    "\n",
    "def extract_purchase_count(text):\n",
    "    if pd.isna(text) or not isinstance(text, str) or text.strip() == '':\n",
    "        return 0\n",
    "    match = re.match(r'(\\d+)([Kk]?)\\+', text)\n",
    "    if match:\n",
    "        number = int(match.group(1))\n",
    "        if match.group(2).lower() == 'k':\n",
    "            number *= 1000\n",
    "        return number\n",
    "    return 0\n",
    "\n",
    "def clean_rating(text):\n",
    "    if pd.isna(text) or not isinstance(text, str):\n",
    "        return None\n",
    "    match = re.match(r'^(\\d+(\\.\\d)?|\\.\\d)$', text.strip())\n",
    "    if match:\n",
    "        return float(text)\n",
    "    return None\n",
    "\n",
    "def clean_review_count(text):\n",
    "    if pd.isna(text) or not isinstance(text, str):\n",
    "        return None\n",
    "    # Check if the text is a valid integer or a string with commas\n",
    "    if text.isdigit():  # Check if the text is a valid integer\n",
    "        return int(text)\n",
    "    else:  # Handle strings with commas\n",
    "        # Remove commas from the text before converting to integer\n",
    "        text = text.replace(',', '')\n",
    "        try:\n",
    "            return int(text)\n",
    "        except ValueError:\n",
    "            return None\n",
    "\n",
    "input_file_path = 'C:\\\\Users\\\\kongj\\\\Desktop\\\\Trendiness Model\\\\amazon_data.csv'\n",
    "output_file_path = 'C:\\\\Users\\\\kongj\\\\Desktop\\\\Trendiness Model\\\\trendiness_data_cleaned.csv'\n",
    "\n",
    "df = pd.read_csv(input_file_path)\n",
    "\n",
    "# Convert 'rating' and 'review_count' columns to integers\n",
    "df['rating'] = df['rating'].apply(clean_rating)\n",
    "\n",
    "# Apply cleaning functions to other columns\n",
    "df['review_count'] = df['review_count'].apply(clean_review_count)\n",
    "df['rankings'] = df['rankings'].apply(extract_ranking)\n",
    "df['purchase_cnt_prev_month'] = df['purchase_cnt_prev_month'].apply(extract_purchase_count)\n",
    "df.dropna(inplace=True, subset=['review_count', 'rankings', 'rating', 'purchase_cnt_prev_month'])\n",
    "\n",
    "# Select cleaned columns and export to CSV\n",
    "df_cleaned = df[['rating', 'review_count', 'rankings', 'purchase_cnt_prev_month']]\n",
    "df_cleaned.to_csv(output_file_path, index=False)\n",
    "df.to_csv('C:\\\\Users\\\\kongj\\\\Desktop\\\\Trendiness Model\\\\amazon_cleaned.csv')"
   ]
  },
  {
   "cell_type": "code",
   "execution_count": 74,
   "metadata": {},
   "outputs": [],
   "source": [
    "# Load the data\n",
    "data = pd.read_csv('trendiness_data_cleaned.csv')\n",
    "\n",
    "# Normalize the data\n",
    "scaler = MinMaxScaler()\n",
    "data[['purchase_cnt_prev_month', 'review_count', 'rating']] = scaler.fit_transform(data[['purchase_cnt_prev_month', 'review_count', 'rating']])\n",
    "data['rankings'] = 1 - (data['rankings'] / data['rankings'].max())\n",
    "\n",
    "# Calculate proxy labels for trendiness\n",
    "data['trendiness'] = (\n",
    "    0.35 * data['purchase_cnt_prev_month'] +\n",
    "    0.25 * data['rankings'] +\n",
    "    0.2 * data['rating'] +\n",
    "    0.2 * data['review_count']\n",
    ")\n",
    "\n",
    "# Calculate proxy labels for uniqueness\n",
    "data['uniqueness'] = (\n",
    "    1 * data['rating'] - \n",
    "    0.4 * data['purchase_cnt_prev_month'] - \n",
    "    0.3 * data['rankings'] - \n",
    "    0.3 * data['review_count']\n",
    ")\n",
    "\n",
    "# Normalize the uniqueness scores to be between 0 and 1\n",
    "uniqueness_scaler = MinMaxScaler()\n",
    "data['uniqueness'] = uniqueness_scaler.fit_transform(data[['uniqueness']])\n",
    "\n",
    "# Save the proxy labeled data to a CSV file\n",
    "data.to_csv('labeled_trendiness_uniqueness_data.csv', index=False)"
   ]
  },
  {
   "cell_type": "code",
   "execution_count": 75,
   "metadata": {},
   "outputs": [],
   "source": [
    "# Define the PyTorch dataset\n",
    "class TrendinessUniquenessDataset(Dataset):\n",
    "    def __init__(self, dataframe):\n",
    "        self.data = dataframe[['rating', 'review_count', 'rankings', 'purchase_cnt_prev_month']].values\n",
    "        self.trendiness_labels = dataframe['trendiness'].values\n",
    "        self.uniqueness_labels = dataframe['uniqueness'].values\n",
    "\n",
    "    def __len__(self):\n",
    "        return len(self.data)\n",
    "\n",
    "    def __getitem__(self, idx):\n",
    "        return (torch.tensor(self.data[idx], dtype=torch.float32), \n",
    "                torch.tensor(self.trendiness_labels[idx], dtype=torch.float32),\n",
    "                torch.tensor(self.uniqueness_labels[idx], dtype=torch.float32))"
   ]
  },
  {
   "cell_type": "code",
   "execution_count": 76,
   "metadata": {},
   "outputs": [],
   "source": [
    "# Define the PyTorch model\n",
    "class TrendinessModel(nn.Module):\n",
    "    def __init__(self):\n",
    "        super(TrendinessModel, self).__init__()\n",
    "        self.fc1 = nn.Linear(4, 64)\n",
    "        self.fc2 = nn.Linear(64, 32)\n",
    "        self.fc3_trendiness = nn.Linear(32, 1)\n",
    "        self.relu = nn.ReLU()\n",
    "        self.sigmoid = nn.Sigmoid()\n",
    "\n",
    "    def forward(self, x):\n",
    "        x = self.relu(self.fc1(x))\n",
    "        x = self.relu(self.fc2(x))\n",
    "        trendiness = self.sigmoid(self.fc3_trendiness(x))\n",
    "        return trendiness"
   ]
  },
  {
   "cell_type": "code",
   "execution_count": 77,
   "metadata": {},
   "outputs": [],
   "source": [
    "# Define the PyTorch model\n",
    "class UniquenessModel(nn.Module):\n",
    "    def __init__(self):\n",
    "        super(UniquenessModel, self).__init__()\n",
    "        self.fc1 = nn.Linear(4, 64)\n",
    "        self.fc2 = nn.Linear(64, 32)\n",
    "        self.fc3_uniqueness = nn.Linear(32, 1)\n",
    "        self.relu = nn.ReLU()\n",
    "        self.sigmoid = nn.Sigmoid()\n",
    "\n",
    "    def forward(self, x):\n",
    "        x = self.relu(self.fc1(x))\n",
    "        x = self.relu(self.fc2(x))\n",
    "        uniqueness = self.sigmoid(self.fc3_uniqueness(x))\n",
    "        return uniqueness"
   ]
  },
  {
   "cell_type": "code",
   "execution_count": 78,
   "metadata": {},
   "outputs": [],
   "source": [
    "dataset = TrendinessUniquenessDataset(data)\n",
    "train_size = int(0.8 * len(dataset))\n",
    "val_size = len(dataset) - train_size\n",
    "train_dataset, val_dataset = random_split(dataset, [train_size, val_size])\n",
    "train_loader = DataLoader(train_dataset, batch_size=32, shuffle=True)\n",
    "val_loader = DataLoader(val_dataset, batch_size=32, shuffle=False)"
   ]
  },
  {
   "cell_type": "code",
   "execution_count": 79,
   "metadata": {},
   "outputs": [
    {
     "name": "stderr",
     "output_type": "stream",
     "text": [
      "Epoch 1/10: 100%|██████████| 948/948 [00:01<00:00, 672.41it/s]\n"
     ]
    },
    {
     "name": "stdout",
     "output_type": "stream",
     "text": [
      "Epoch 1, Training Loss: 0.0001519873014938146\n"
     ]
    },
    {
     "name": "stderr",
     "output_type": "stream",
     "text": [
      "Epoch 2/10: 100%|██████████| 948/948 [00:01<00:00, 698.70it/s]\n"
     ]
    },
    {
     "name": "stdout",
     "output_type": "stream",
     "text": [
      "Epoch 2, Training Loss: 9.934118213931147e-06\n"
     ]
    },
    {
     "name": "stderr",
     "output_type": "stream",
     "text": [
      "Epoch 3/10: 100%|██████████| 948/948 [00:01<00:00, 670.73it/s]\n"
     ]
    },
    {
     "name": "stdout",
     "output_type": "stream",
     "text": [
      "Epoch 3, Training Loss: 1.2715978640611813e-06\n"
     ]
    },
    {
     "name": "stderr",
     "output_type": "stream",
     "text": [
      "Epoch 4/10: 100%|██████████| 948/948 [00:01<00:00, 688.63it/s]\n"
     ]
    },
    {
     "name": "stdout",
     "output_type": "stream",
     "text": [
      "Epoch 4, Training Loss: 1.0113224812818446e-06\n"
     ]
    },
    {
     "name": "stderr",
     "output_type": "stream",
     "text": [
      "Epoch 5/10: 100%|██████████| 948/948 [00:01<00:00, 689.80it/s]\n"
     ]
    },
    {
     "name": "stdout",
     "output_type": "stream",
     "text": [
      "Epoch 5, Training Loss: 8.253124021579483e-07\n"
     ]
    },
    {
     "name": "stderr",
     "output_type": "stream",
     "text": [
      "Epoch 6/10: 100%|██████████| 948/948 [00:01<00:00, 651.59it/s]\n"
     ]
    },
    {
     "name": "stdout",
     "output_type": "stream",
     "text": [
      "Epoch 6, Training Loss: 7.019539144622334e-07\n"
     ]
    },
    {
     "name": "stderr",
     "output_type": "stream",
     "text": [
      "Epoch 7/10: 100%|██████████| 948/948 [00:01<00:00, 699.65it/s]\n"
     ]
    },
    {
     "name": "stdout",
     "output_type": "stream",
     "text": [
      "Epoch 7, Training Loss: 7.430665440587789e-07\n"
     ]
    },
    {
     "name": "stderr",
     "output_type": "stream",
     "text": [
      "Epoch 8/10: 100%|██████████| 948/948 [00:01<00:00, 713.93it/s]\n"
     ]
    },
    {
     "name": "stdout",
     "output_type": "stream",
     "text": [
      "Epoch 8, Training Loss: 4.7155936742861985e-07\n"
     ]
    },
    {
     "name": "stderr",
     "output_type": "stream",
     "text": [
      "Epoch 9/10: 100%|██████████| 948/948 [00:01<00:00, 682.84it/s]\n"
     ]
    },
    {
     "name": "stdout",
     "output_type": "stream",
     "text": [
      "Epoch 9, Training Loss: 4.68547735885784e-07\n"
     ]
    },
    {
     "name": "stderr",
     "output_type": "stream",
     "text": [
      "Epoch 10/10: 100%|██████████| 948/948 [00:01<00:00, 715.72it/s]"
     ]
    },
    {
     "name": "stdout",
     "output_type": "stream",
     "text": [
      "Epoch 10, Training Loss: 4.3818150038638304e-07\n"
     ]
    },
    {
     "name": "stderr",
     "output_type": "stream",
     "text": [
      "\n"
     ]
    }
   ],
   "source": [
    "# Initialize model, optimizer, and loss function\n",
    "trendiness_model = TrendinessModel()\n",
    "optimizer = optim.Adam(trendiness_model.parameters(), lr=0.001)\n",
    "criterion = nn.MSELoss()\n",
    "\n",
    "# Train the model\n",
    "num_epochs = 10\n",
    "for epoch in range(num_epochs):\n",
    "    trendiness_model.train()\n",
    "    train_loss = 0\n",
    "    for inputs, trendiness_labels, uniqueness_labels in tqdm(train_loader, desc=f\"Epoch {epoch+1}/{num_epochs}\"):\n",
    "        optimizer.zero_grad()\n",
    "        trendiness_outputs = trendiness_model(inputs)\n",
    "        loss_trendiness = criterion(trendiness_outputs.squeeze(), trendiness_labels)\n",
    "        loss_trendiness.backward()\n",
    "        optimizer.step()\n",
    "        train_loss += loss_trendiness.item()\n",
    "    train_loss /= len(train_loader)\n",
    "    print(f'Epoch {epoch+1}, Training Loss: {train_loss}')\n",
    "\n",
    "# Save the trained model using pickle\n",
    "with open('trendiness_model.pkl', 'wb') as f:\n",
    "    pickle.dump(trendiness_model.state_dict(), f)"
   ]
  },
  {
   "cell_type": "code",
   "execution_count": 80,
   "metadata": {},
   "outputs": [
    {
     "name": "stderr",
     "output_type": "stream",
     "text": [
      "Epoch 1/10: 100%|██████████| 948/948 [00:01<00:00, 724.05it/s]\n"
     ]
    },
    {
     "name": "stdout",
     "output_type": "stream",
     "text": [
      "Epoch 1, Training Loss: 0.0012332406649479594\n"
     ]
    },
    {
     "name": "stderr",
     "output_type": "stream",
     "text": [
      "Epoch 2/10: 100%|██████████| 948/948 [00:01<00:00, 697.08it/s]\n"
     ]
    },
    {
     "name": "stdout",
     "output_type": "stream",
     "text": [
      "Epoch 2, Training Loss: 1.9041730144829264e-05\n"
     ]
    },
    {
     "name": "stderr",
     "output_type": "stream",
     "text": [
      "Epoch 3/10: 100%|██████████| 948/948 [00:01<00:00, 714.28it/s]\n"
     ]
    },
    {
     "name": "stdout",
     "output_type": "stream",
     "text": [
      "Epoch 3, Training Loss: 9.698779912405956e-06\n"
     ]
    },
    {
     "name": "stderr",
     "output_type": "stream",
     "text": [
      "Epoch 4/10: 100%|██████████| 948/948 [00:01<00:00, 689.06it/s]\n"
     ]
    },
    {
     "name": "stdout",
     "output_type": "stream",
     "text": [
      "Epoch 4, Training Loss: 6.8157778671531625e-06\n"
     ]
    },
    {
     "name": "stderr",
     "output_type": "stream",
     "text": [
      "Epoch 5/10: 100%|██████████| 948/948 [00:01<00:00, 685.31it/s]\n"
     ]
    },
    {
     "name": "stdout",
     "output_type": "stream",
     "text": [
      "Epoch 5, Training Loss: 5.262657375011452e-06\n"
     ]
    },
    {
     "name": "stderr",
     "output_type": "stream",
     "text": [
      "Epoch 6/10: 100%|██████████| 948/948 [00:01<00:00, 601.63it/s]\n"
     ]
    },
    {
     "name": "stdout",
     "output_type": "stream",
     "text": [
      "Epoch 6, Training Loss: 4.712958974203153e-06\n"
     ]
    },
    {
     "name": "stderr",
     "output_type": "stream",
     "text": [
      "Epoch 7/10: 100%|██████████| 948/948 [00:01<00:00, 644.01it/s]\n"
     ]
    },
    {
     "name": "stdout",
     "output_type": "stream",
     "text": [
      "Epoch 7, Training Loss: 4.20372013158151e-06\n"
     ]
    },
    {
     "name": "stderr",
     "output_type": "stream",
     "text": [
      "Epoch 8/10: 100%|██████████| 948/948 [00:01<00:00, 658.85it/s]\n"
     ]
    },
    {
     "name": "stdout",
     "output_type": "stream",
     "text": [
      "Epoch 8, Training Loss: 3.7522062076783103e-06\n"
     ]
    },
    {
     "name": "stderr",
     "output_type": "stream",
     "text": [
      "Epoch 9/10: 100%|██████████| 948/948 [00:01<00:00, 670.20it/s]\n"
     ]
    },
    {
     "name": "stdout",
     "output_type": "stream",
     "text": [
      "Epoch 9, Training Loss: 3.127305632383305e-06\n"
     ]
    },
    {
     "name": "stderr",
     "output_type": "stream",
     "text": [
      "Epoch 10/10: 100%|██████████| 948/948 [00:01<00:00, 636.00it/s]"
     ]
    },
    {
     "name": "stdout",
     "output_type": "stream",
     "text": [
      "Epoch 10, Training Loss: 3.023792997482757e-06\n"
     ]
    },
    {
     "name": "stderr",
     "output_type": "stream",
     "text": [
      "\n"
     ]
    }
   ],
   "source": [
    "# Initialize model, optimizer, and loss function\n",
    "uniqueness_model = UniquenessModel()\n",
    "optimizer = optim.Adam(uniqueness_model.parameters(), lr=0.001)\n",
    "criterion = nn.MSELoss()\n",
    "\n",
    "# Train the model\n",
    "num_epochs = 10\n",
    "for epoch in range(num_epochs):\n",
    "    uniqueness_model.train()\n",
    "    train_loss = 0\n",
    "    for inputs, trendiness_labels, uniqueness_labels in tqdm(train_loader, desc=f\"Epoch {epoch+1}/{num_epochs}\"):\n",
    "        optimizer.zero_grad()\n",
    "        uniqueness_outputs = uniqueness_model(inputs)\n",
    "        loss_uniqueness = criterion(uniqueness_outputs.squeeze(), uniqueness_labels)\n",
    "        loss_uniqueness.backward()\n",
    "        optimizer.step()\n",
    "        train_loss += loss_uniqueness.item()\n",
    "    train_loss /= len(train_loader)\n",
    "    print(f'Epoch {epoch+1}, Training Loss: {train_loss}')\n",
    "\n",
    "# Save the trained model using pickle\n",
    "with open('uniqueness_model.pkl', 'wb') as f:\n",
    "    pickle.dump(uniqueness_model.state_dict(), f)"
   ]
  },
  {
   "cell_type": "code",
   "execution_count": 81,
   "metadata": {},
   "outputs": [
    {
     "name": "stdout",
     "output_type": "stream",
     "text": [
      "Predicted trendiness score: 0.47349998354911804\n",
      "Predicted uniqueness score: 0.6974851489067078\n"
     ]
    }
   ],
   "source": [
    "# Define the prediction function using the trained models\n",
    "def predict_trendiness_uniqueness(new_data, trendiness_model, uniqueness_model, scaler):\n",
    "    new_data[['purchase_cnt_prev_month', 'review_count', 'rating']] = scaler.transform(new_data[['purchase_cnt_prev_month', 'review_count', 'rating']])\n",
    "    new_data['rankings'] = 1 - (new_data['rankings'] / new_data['rankings'].max())\n",
    "    inputs = torch.tensor(new_data[['rating', 'review_count', 'rankings', 'purchase_cnt_prev_month']].astype('float32').values)\n",
    "    \n",
    "    trendiness_model.eval()\n",
    "    uniqueness_model.eval()\n",
    "    \n",
    "    with torch.no_grad():\n",
    "        trendiness_outputs = trendiness_model(inputs)\n",
    "        uniqueness_outputs = uniqueness_model(inputs)\n",
    "    \n",
    "    trendiness_scores = trendiness_outputs.squeeze().numpy()\n",
    "    uniqueness_scores = uniqueness_outputs.squeeze().numpy()\n",
    "    \n",
    "    return trendiness_scores, uniqueness_scores\n",
    "\n",
    "# Load the models for prediction\n",
    "loaded_trendiness_model = TrendinessModel()\n",
    "loaded_uniqueness_model = UniquenessModel()\n",
    "\n",
    "# Load state dicts from the pickle files\n",
    "with open('trendiness_model.pkl', 'rb') as f:\n",
    "    loaded_trendiness_model.load_state_dict(pickle.load(f))\n",
    "\n",
    "with open('uniqueness_model.pkl', 'rb') as f:\n",
    "    loaded_uniqueness_model.load_state_dict(pickle.load(f))\n",
    "\n",
    "# Example new data point\n",
    "new_data_point = [[5.0, 2395.0, 263.0, 100000]]\n",
    "new_data = pd.DataFrame(new_data_point, columns=['rating', 'review_count', 'rankings', 'purchase_cnt_prev_month'])\n",
    "\n",
    "# Predict trendiness and uniqueness scores\n",
    "trendiness_score, uniqueness_score = predict_trendiness_uniqueness(new_data, loaded_trendiness_model, loaded_uniqueness_model, scaler)\n",
    "print(f\"Predicted trendiness score: {trendiness_score}\")\n",
    "print(f\"Predicted uniqueness score: {uniqueness_score}\")\n"
   ]
  },
  {
   "cell_type": "code",
   "execution_count": 83,
   "metadata": {},
   "outputs": [
    {
     "name": "stdout",
     "output_type": "stream",
     "text": [
      "Data without outliers and normalized saved to C:\\Users\\kongj\\Desktop\\Trendiness Model\\amazon_no_outliers_normalized.csv\n"
     ]
    }
   ],
   "source": [
    "# Load the model for prediction\n",
    "loaded_trendiness_model = TrendinessModel()\n",
    "loaded_uniqueness_model = UniquenessModel()\n",
    "\n",
    "# Load state dicts from the pickle files\n",
    "with open('trendiness_model.pkl', 'rb') as f:\n",
    "    loaded_trendiness_model.load_state_dict(pickle.load(f))\n",
    "\n",
    "with open('uniqueness_model.pkl', 'rb') as f:\n",
    "    loaded_uniqueness_model.load_state_dict(pickle.load(f))\n",
    "\n",
    "# Load and process the input CSV\n",
    "amazon_df = pd.read_csv('amazon_cleaned.csv')\n",
    "\n",
    "# Initialize lists to store the predictions\n",
    "trendiness_scores = []\n",
    "uniqueness_scores = []\n",
    "\n",
    "# Loop through each row in the DataFrame and make predictions\n",
    "for index, row in amazon_df.iterrows():\n",
    "    new_data_point = row.to_frame().T\n",
    "    trendiness_score, uniqueness_score = predict_trendiness_uniqueness(new_data_point, loaded_trendiness_model, loaded_uniqueness_model, scaler)\n",
    "    trendiness_scores.append(trendiness_score)  # Ensure to access the first element if predictions are in arrays\n",
    "    uniqueness_scores.append(uniqueness_score)  # Ensure to access the first element if predictions are in arrays\n",
    "\n",
    "# Add the scores to the DataFrame\n",
    "amazon_df['predicted_trendiness'] = trendiness_scores\n",
    "amazon_df['predicted_uniqueness'] = uniqueness_scores\n",
    "\n",
    "# Ensure columns are numeric\n",
    "amazon_df['predicted_trendiness'] = amazon_df['predicted_trendiness'].astype(float)\n",
    "amazon_df['predicted_uniqueness'] = amazon_df['predicted_uniqueness'].astype(float)\n",
    "\n",
    "# Calculate Z-scores for predicted_trendiness and predicted_uniqueness\n",
    "amazon_df['trendiness_zscore'] = np.abs(stats.zscore(amazon_df['predicted_trendiness']))\n",
    "amazon_df['uniqueness_zscore'] = np.abs(stats.zscore(amazon_df['predicted_uniqueness']))\n",
    "\n",
    "# Define threshold for outliers (e.g., Z-score > 3)\n",
    "threshold = 3\n",
    "outliers = amazon_df[(amazon_df['trendiness_zscore'] > threshold) | (amazon_df['uniqueness_zscore'] > threshold)]\n",
    "\n",
    "# Remove outliers\n",
    "amazon_df = amazon_df[~((amazon_df['trendiness_zscore'] > threshold) | (amazon_df['uniqueness_zscore'] > threshold))]\n",
    "\n",
    "# Normalize the predicted scores after removing outliers\n",
    "scaler_trendiness = MinMaxScaler()\n",
    "scaler_uniqueness = MinMaxScaler()\n",
    "\n",
    "amazon_df[['predicted_trendiness']] = scaler_trendiness.fit_transform(amazon_df[['predicted_trendiness']])\n",
    "amazon_df[['predicted_uniqueness']] = scaler_uniqueness.fit_transform(amazon_df[['predicted_uniqueness']])\n",
    "\n",
    "# Save the results to a new CSV\n",
    "output_file_path = 'C:\\\\Users\\\\kongj\\\\Desktop\\\\Trendiness Model\\\\amazon_no_outliers_normalized.csv'\n",
    "amazon_df.to_csv(output_file_path, index=False)\n",
    "print(f\"Data without outliers and normalized saved to {output_file_path}\")"
   ]
  },
  {
   "cell_type": "code",
   "execution_count": 85,
   "metadata": {},
   "outputs": [
    {
     "data": {
      "image/png": "[encoded data removed]",
      "text/plain": [
       "<Figure size 1000x600 with 2 Axes>"
      ]
     },
     "metadata": {},
     "output_type": "display_data"
    }
   ],
   "source": [
    "import matplotlib.pyplot as plt\n",
    "\n",
    "# Load the predictions CSV\n",
    "predictions_df = pd.read_csv('C:\\\\Users\\\\kongj\\\\Desktop\\\\Trendiness Model\\\\amazon_no_outliers_normalized.csv')\n",
    "\n",
    "# Plotting histograms\n",
    "plt.figure(figsize=(10, 6))\n",
    "\n",
    "# Histogram for predicted trendiness\n",
    "plt.subplot(1, 2, 1)\n",
    "plt.hist(predictions_df['predicted_trendiness'], bins=20, color='blue', alpha=0.7)\n",
    "plt.title('Histogram of Predicted Trendiness Scores')\n",
    "plt.xlabel('Trendiness Score')\n",
    "plt.ylabel('Frequency')\n",
    "\n",
    "# Histogram for predicted uniqueness\n",
    "plt.subplot(1, 2, 2)\n",
    "plt.hist(predictions_df['predicted_uniqueness'], bins=20, color='green', alpha=0.7)\n",
    "plt.title('Histogram of Predicted Uniqueness Scores')\n",
    "plt.xlabel('Uniqueness Score')\n",
    "plt.ylabel('Frequency')\n",
    "\n",
    "plt.tight_layout()\n",
    "plt.show()\n"
   ]
  },
  {
   "cell_type": "code",
   "execution_count": 86,
   "metadata": {},
   "outputs": [
    {
     "name": "stdout",
     "output_type": "stream",
     "text": [
      "Sampled data saved to C:\\Users\\kongj\\Desktop\\Trendiness Model\\amazon_sample_data.csv\n"
     ]
    }
   ],
   "source": [
    "# Load the predictions CSV\n",
    "predictions_df = pd.read_csv('C:\\\\Users\\\\kongj\\\\Desktop\\\\Trendiness Model\\\\amazon_no_outliers_normalized.csv')\n",
    "\n",
    "# Initialize an empty DataFrame to store sampled data\n",
    "sampled_data = pd.DataFrame()\n",
    "\n",
    "# Group by 'main_category' and sample 500 random data points for each group\n",
    "grouped = predictions_df.groupby('main_category')\n",
    "for category, group in grouped:\n",
    "    sampled_group = group.sample(n=min(500, len(group)))  # Sample up to 500 data points per category\n",
    "    sampled_data = pd.concat([sampled_data, sampled_group])\n",
    "\n",
    "# Save the sampled data to a new CSV file\n",
    "output_file_path = 'C:\\\\Users\\\\kongj\\\\Desktop\\\\Trendiness Model\\\\amazon_sample_data.csv'\n",
    "sampled_data.to_csv(output_file_path, index=False)\n",
    "print(f\"Sampled data saved to {output_file_path}\")"
   ]
  }
 ],
 "metadata": {
  "kernelspec": {
   "display_name": "Python 3",
   "language": "python",
   "name": "python3"
  },
  "language_info": {
   "codemirror_mode": {
    "name": "ipython",
    "version": 3
   },
   "file_extension": ".py",
   "mimetype": "text/x-python",
   "name": "python",
   "nbconvert_exporter": "python",
   "pygments_lexer": "ipython3",
   "version": "3.10.0"
  }
 },
 "nbformat": 4,
 "nbformat_minor": 2
}
